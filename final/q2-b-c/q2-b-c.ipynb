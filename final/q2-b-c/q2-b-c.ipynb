{
 "cells": [
  {
   "cell_type": "code",
   "execution_count": 1,
   "id": "durable-conspiracy",
   "metadata": {},
   "outputs": [],
   "source": [
    "import numpy as np\n",
    "import pandas as pd\n",
    "from matplotlib import pyplot as plt\n",
    "import random\n",
    "\n",
    "\n",
    "\n",
    "import tensorflow as tf\n",
    "\n",
    "from tensorflow.keras import datasets, layers, models\n",
    "import matplotlib.pyplot as plt\n",
    "\n"
   ]
  },
  {
   "cell_type": "code",
   "execution_count": 6,
   "id": "entertaining-drill",
   "metadata": {},
   "outputs": [],
   "source": [
    "def conv(num_layers, pooling):\n",
    "    model = models.Sequential()\n",
    "    model.add(layers.Conv2D(32, (2, 2), activation='relu', input_shape=(32, 32, 3)))\n",
    "    model.add(layers.MaxPooling2D((2, 2)))\n",
    "    \n",
    "    model.add(layers.Conv2D(64, (2, 2), activation='relu'))\n",
    "    model.add(layers.MaxPooling2D((2, 2)))\n",
    "    \n",
    "    model.add(layers.Conv2D(128, (2, 2), activation='relu'))\n",
    "    \n",
    "    model.add(layers.Flatten())\n",
    "    model.add(layers.Dense(64, activation='relu'))\n",
    "    model.add(layers.Dense(10))\n",
    "\n",
    "    return model"
   ]
  },
  {
   "cell_type": "code",
   "execution_count": 119,
   "id": "french-ancient",
   "metadata": {},
   "outputs": [],
   "source": [
    "#better data format than what was used in q1-a\n",
    "(train_x, train_y), (test_x, test_y) = datasets.cifar10.load_data()\n",
    "\n",
    "#normalize datas\n",
    "train_x, test_x = train_x / 255.0, test_x / 255.0\n",
    "\n"
   ]
  },
  {
   "cell_type": "code",
   "execution_count": 100,
   "id": "southwest-genesis",
   "metadata": {},
   "outputs": [
    {
     "name": "stdout",
     "output_type": "stream",
     "text": [
      "Model: \"sequential_23\"\n",
      "_________________________________________________________________\n",
      "Layer (type)                 Output Shape              Param #   \n",
      "=================================================================\n",
      "conv2d_40 (Conv2D)           (None, 31, 31, 32)        416       \n",
      "_________________________________________________________________\n",
      "max_pooling2d_19 (MaxPooling (None, 15, 15, 32)        0         \n",
      "_________________________________________________________________\n",
      "conv2d_41 (Conv2D)           (None, 14, 14, 64)        8256      \n",
      "_________________________________________________________________\n",
      "max_pooling2d_20 (MaxPooling (None, 7, 7, 64)          0         \n",
      "_________________________________________________________________\n",
      "conv2d_42 (Conv2D)           (None, 6, 6, 128)         32896     \n",
      "_________________________________________________________________\n",
      "flatten_21 (Flatten)         (None, 4608)              0         \n",
      "_________________________________________________________________\n",
      "dense_30 (Dense)             (None, 64)                294976    \n",
      "_________________________________________________________________\n",
      "dense_31 (Dense)             (None, 10)                650       \n",
      "=================================================================\n",
      "Total params: 337,194\n",
      "Trainable params: 337,194\n",
      "Non-trainable params: 0\n",
      "_________________________________________________________________\n"
     ]
    }
   ],
   "source": [
    "mod = conv(2, pooling=layers.MaxPool2D)\n",
    "mod.summary()"
   ]
  },
  {
   "cell_type": "code",
   "execution_count": 102,
   "id": "macro-riverside",
   "metadata": {},
   "outputs": [
    {
     "name": "stdout",
     "output_type": "stream",
     "text": [
      "Epoch 1/20\n",
      "1563/1563 [==============================] - 22s 14ms/step - loss: 1.4622 - accuracy: 0.4692 - val_loss: 1.2467 - val_accuracy: 0.5636\n",
      "Epoch 2/20\n",
      "1563/1563 [==============================] - 23s 14ms/step - loss: 1.0800 - accuracy: 0.6179 - val_loss: 1.0597 - val_accuracy: 0.6296\n",
      "Epoch 3/20\n",
      "1563/1563 [==============================] - 21s 13ms/step - loss: 0.9343 - accuracy: 0.6717 - val_loss: 0.9081 - val_accuracy: 0.6842\n",
      "Epoch 4/20\n",
      "1563/1563 [==============================] - 22s 14ms/step - loss: 0.8302 - accuracy: 0.7095 - val_loss: 0.8608 - val_accuracy: 0.6999\n",
      "Epoch 5/20\n",
      "1563/1563 [==============================] - 21s 14ms/step - loss: 0.7579 - accuracy: 0.7361 - val_loss: 0.8728 - val_accuracy: 0.6980\n",
      "Epoch 6/20\n",
      "1563/1563 [==============================] - 21s 13ms/step - loss: 0.6904 - accuracy: 0.7600 - val_loss: 0.8364 - val_accuracy: 0.7182\n",
      "Epoch 7/20\n",
      "1563/1563 [==============================] - 21s 13ms/step - loss: 0.6394 - accuracy: 0.7764 - val_loss: 0.8442 - val_accuracy: 0.7174\n",
      "Epoch 8/20\n",
      "1563/1563 [==============================] - 21s 14ms/step - loss: 0.5857 - accuracy: 0.7962 - val_loss: 0.9056 - val_accuracy: 0.7038\n",
      "Epoch 9/20\n",
      "1563/1563 [==============================] - 22s 14ms/step - loss: 0.5416 - accuracy: 0.8106 - val_loss: 0.8945 - val_accuracy: 0.7121\n",
      "Epoch 10/20\n",
      "1563/1563 [==============================] - 21s 14ms/step - loss: 0.4961 - accuracy: 0.8260 - val_loss: 0.8947 - val_accuracy: 0.7167\n",
      "Epoch 11/20\n",
      "1563/1563 [==============================] - 22s 14ms/step - loss: 0.4526 - accuracy: 0.8402 - val_loss: 0.9447 - val_accuracy: 0.7137\n",
      "Epoch 12/20\n",
      "1563/1563 [==============================] - 22s 14ms/step - loss: 0.4126 - accuracy: 0.8553 - val_loss: 0.9754 - val_accuracy: 0.7140\n",
      "Epoch 13/20\n",
      "1563/1563 [==============================] - 22s 14ms/step - loss: 0.3742 - accuracy: 0.8673 - val_loss: 0.9801 - val_accuracy: 0.7188\n",
      "Epoch 14/20\n",
      "1563/1563 [==============================] - 22s 14ms/step - loss: 0.3396 - accuracy: 0.8801 - val_loss: 1.0412 - val_accuracy: 0.7160\n",
      "Epoch 15/20\n",
      "1563/1563 [==============================] - 22s 14ms/step - loss: 0.3059 - accuracy: 0.8904 - val_loss: 1.1235 - val_accuracy: 0.7133\n",
      "Epoch 16/20\n",
      "1563/1563 [==============================] - 23s 14ms/step - loss: 0.2788 - accuracy: 0.8997 - val_loss: 1.1428 - val_accuracy: 0.7139\n",
      "Epoch 17/20\n",
      "1563/1563 [==============================] - 23s 14ms/step - loss: 0.2551 - accuracy: 0.9087 - val_loss: 1.1892 - val_accuracy: 0.7034\n",
      "Epoch 18/20\n",
      "1563/1563 [==============================] - 23s 14ms/step - loss: 0.2320 - accuracy: 0.9169 - val_loss: 1.2902 - val_accuracy: 0.7083\n",
      "Epoch 19/20\n",
      "1563/1563 [==============================] - 22s 14ms/step - loss: 0.2118 - accuracy: 0.9239 - val_loss: 1.3251 - val_accuracy: 0.7079\n",
      "Epoch 20/20\n",
      "1563/1563 [==============================] - 23s 15ms/step - loss: 0.1972 - accuracy: 0.9286 - val_loss: 1.4138 - val_accuracy: 0.7042\n"
     ]
    }
   ],
   "source": [
    "\n",
    "\n",
    "mod.compile(optimizer='adam',loss=tf.keras.losses.SparseCategoricalCrossentropy(from_logits=True),metrics=['accuracy'])\n",
    "\n",
    "history = mod.fit(train_x, train_y, epochs = 20, validation_data=(test_x,  test_y))"
   ]
  },
  {
   "cell_type": "code",
   "execution_count": 10,
   "id": "declared-insurance",
   "metadata": {},
   "outputs": [
    {
     "name": "stdout",
     "output_type": "stream",
     "text": [
      "313/313 - 1s - loss: 0.8711 - accuracy: 0.7283\n"
     ]
    }
   ],
   "source": [
    "history.history"
   ]
  },
  {
   "cell_type": "code",
   "execution_count": 104,
   "id": "knowing-floor",
   "metadata": {},
   "outputs": [
    {
     "data": {
      "image/png": "[encoded data removed]",
      "text/plain": [
       "<Figure size 432x288 with 1 Axes>"
      ]
     },
     "metadata": {
      "needs_background": "light"
     },
     "output_type": "display_data"
    }
   ],
   "source": [
    "plt.plot(list(history.history[\"val_accuracy\"]))\n",
    "plt.ylabel(\"accuracy\")\n",
    "plt.xlabel(\"epoch\")\n",
    "plt.savefig(\"q1-c_acc.jpg\")"
   ]
  }
 ],
 "metadata": {
  "kernelspec": {
   "display_name": "Python 3",
   "language": "python",
   "name": "python3"
  },
  "language_info": {
   "codemirror_mode": {
    "name": "ipython",
    "version": 3
   },
   "file_extension": ".py",
   "mimetype": "text/x-python",
   "name": "python",
   "nbconvert_exporter": "python",
   "pygments_lexer": "ipython3",
   "version": "3.8.9"
  }
 },
 "nbformat": 4,
 "nbformat_minor": 5
}
