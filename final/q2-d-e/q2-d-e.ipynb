{
 "cells": [
  {
   "cell_type": "code",
   "execution_count": 1,
   "id": "accessory-contamination",
   "metadata": {},
   "outputs": [],
   "source": [
    "import numpy as np\n",
    "import pandas as pd\n",
    "from matplotlib import pyplot as plt\n",
    "import random\n",
    "\n",
    "\n",
    "\n",
    "import tensorflow as tf\n",
    "\n",
    "from tensorflow.keras import datasets, layers, models\n",
    "import matplotlib.pyplot as plt\n",
    "\n"
   ]
  },
  {
   "cell_type": "code",
   "execution_count": 2,
   "id": "deadly-store",
   "metadata": {},
   "outputs": [],
   "source": [
    "#better data format than what was used in q1-a\n",
    "(train_x, train_y), (test_x, test_y) = datasets.cifar10.load_data()\n",
    "\n",
    "#normalize datas\n",
    "train_x, test_x = train_x / 255.0, test_x / 255.0\n",
    "\n"
   ]
  },
  {
   "cell_type": "code",
   "execution_count": 3,
   "id": "boring-premises",
   "metadata": {},
   "outputs": [],
   "source": [
    "from tensorflow import keras\n",
    "from tensorflow.keras import layers\n",
    "\n",
    "input_img = keras.Input(shape=(32, 32, 3))\n",
    "\n",
    "\n",
    "x = layers.Conv2D(32, (3, 3), activation='relu', input_shape=(32, 32, 3), padding='same')(input_img)\n",
    "x = layers.MaxPooling2D((2, 2), padding='same')(x)\n",
    "    \n",
    "x = layers.Conv2D(16, (3, 3), activation='relu', padding='same')(x)\n",
    "x = layers.MaxPooling2D((2, 2), padding='same')(x)\n",
    "    \n",
    "x = layers.Conv2D(16, (3, 3), activation='relu', padding='same')(x)\n",
    "\n",
    "encoded = layers.MaxPooling2D((2, 2), padding='same')(x)\n",
    "\n",
    "\n",
    "x = layers.Conv2D(16, (3, 3), activation='relu', padding='same')(encoded)\n",
    "x = layers.UpSampling2D((2, 2))(x)\n",
    "x = layers.Conv2D(16, (3, 3), activation='relu', padding='same')(x)\n",
    "x = layers.UpSampling2D((2, 2))(x)\n",
    "x = layers.Conv2D(32, (3, 3), activation='relu', padding='same')(x)\n",
    "x = layers.UpSampling2D((2, 2))(x)\n",
    "decoded = layers.Conv2D(3, (3, 3), activation='sigmoid', padding='same')(x)\n",
    "\n",
    "autoencoder = keras.Model(input_img, decoded)\n",
    "autoencoder.compile(optimizer='adam', loss='binary_crossentropy')"
   ]
  },
  {
   "cell_type": "code",
   "execution_count": 4,
   "id": "technical-emphasis",
   "metadata": {},
   "outputs": [
    {
     "name": "stdout",
     "output_type": "stream",
     "text": [
      "Epoch 1/5\n",
      "391/391 [==============================] - 59s 150ms/step - loss: 0.6047 - val_loss: 0.5888\n",
      "Epoch 2/5\n",
      "391/391 [==============================] - 57s 146ms/step - loss: 0.5847 - val_loss: 0.5832\n",
      "Epoch 3/5\n",
      "391/391 [==============================] - 55s 141ms/step - loss: 0.5811 - val_loss: 0.5815\n",
      "Epoch 4/5\n",
      "391/391 [==============================] - 58s 148ms/step - loss: 0.5792 - val_loss: 0.5791\n",
      "Epoch 5/5\n",
      "391/391 [==============================] - 57s 145ms/step - loss: 0.5777 - val_loss: 0.5777\n"
     ]
    },
    {
     "data": {
      "text/plain": [
       "<tensorflow.python.keras.callbacks.History at 0x161eb39a0>"
      ]
     },
     "execution_count": 4,
     "metadata": {},
     "output_type": "execute_result"
    }
   ],
   "source": [
    "\n",
    "autoencoder.fit(train_x, train_x,\n",
    "                epochs=5,\n",
    "                batch_size=128,\n",
    "                shuffle=True,\n",
    "                validation_data=(test_x, test_x))"
   ]
  },
  {
   "cell_type": "code",
   "execution_count": 5,
   "id": "mature-holiday",
   "metadata": {},
   "outputs": [],
   "source": [
    "enc = keras.Model(input_img,encoded)"
   ]
  },
  {
   "cell_type": "code",
   "execution_count": 26,
   "id": "radical-palestinian",
   "metadata": {},
   "outputs": [],
   "source": [
    "mod_input = enc.predict(train_x)\n",
    "classifier_mod = tf.keras.Sequential( [ layers.Conv2D(64, (3,3), kernel_regularizer= tf.keras.regularizers.l1(0.001)), \n",
    "                                       layers.MaxPool2D((2,2)),\n",
    "                                      layers.Flatten(),\n",
    "                                      layers.Dense(10)])\n",
    "classifier_mod.compile(optimizer='adam',loss=tf.keras.losses.SparseCategoricalCrossentropy(from_logits=True),metrics=['accuracy'])"
   ]
  },
  {
   "cell_type": "code",
   "execution_count": 27,
   "id": "later-system",
   "metadata": {},
   "outputs": [
    {
     "name": "stdout",
     "output_type": "stream",
     "text": [
      "Epoch 1/50\n",
      "1563/1563 [==============================] - 2s 985us/step - loss: 2.1124 - accuracy: 0.3072 - val_loss: 1.9464 - val_accuracy: 0.3540\n",
      "Epoch 2/50\n",
      "1563/1563 [==============================] - 1s 935us/step - loss: 1.9081 - accuracy: 0.3652 - val_loss: 1.9028 - val_accuracy: 0.3531\n",
      "Epoch 3/50\n",
      "1563/1563 [==============================] - 1s 936us/step - loss: 1.8444 - accuracy: 0.3883 - val_loss: 1.8236 - val_accuracy: 0.3887\n",
      "Epoch 4/50\n",
      "1563/1563 [==============================] - 1s 941us/step - loss: 1.8034 - accuracy: 0.4014 - val_loss: 1.7639 - val_accuracy: 0.4172\n",
      "Epoch 5/50\n",
      "1563/1563 [==============================] - 1s 944us/step - loss: 1.7736 - accuracy: 0.4143 - val_loss: 1.7482 - val_accuracy: 0.4296\n",
      "Epoch 6/50\n",
      "1563/1563 [==============================] - 1s 944us/step - loss: 1.7569 - accuracy: 0.4164 - val_loss: 1.7482 - val_accuracy: 0.4114\n",
      "Epoch 7/50\n",
      "1563/1563 [==============================] - 1s 951us/step - loss: 1.7411 - accuracy: 0.4244 - val_loss: 1.7625 - val_accuracy: 0.4103\n",
      "Epoch 8/50\n",
      "1563/1563 [==============================] - 1s 952us/step - loss: 1.7289 - accuracy: 0.4268 - val_loss: 1.7346 - val_accuracy: 0.4333\n",
      "Epoch 9/50\n",
      "1563/1563 [==============================] - 1s 952us/step - loss: 1.7166 - accuracy: 0.4332 - val_loss: 1.9004 - val_accuracy: 0.3702\n",
      "Epoch 10/50\n",
      "1563/1563 [==============================] - 1s 955us/step - loss: 1.7106 - accuracy: 0.4357 - val_loss: 1.6918 - val_accuracy: 0.4432\n",
      "Epoch 11/50\n",
      "1563/1563 [==============================] - 2s 961us/step - loss: 1.7046 - accuracy: 0.4355 - val_loss: 1.7398 - val_accuracy: 0.4160\n",
      "Epoch 12/50\n",
      "1563/1563 [==============================] - 1s 957us/step - loss: 1.6968 - accuracy: 0.4378 - val_loss: 1.7106 - val_accuracy: 0.4343\n",
      "Epoch 13/50\n",
      "1563/1563 [==============================] - 2s 961us/step - loss: 1.6890 - accuracy: 0.4411 - val_loss: 1.7237 - val_accuracy: 0.4235\n",
      "Epoch 14/50\n",
      "1563/1563 [==============================] - 1s 959us/step - loss: 1.6842 - accuracy: 0.4431 - val_loss: 1.6935 - val_accuracy: 0.4452\n",
      "Epoch 15/50\n",
      "1563/1563 [==============================] - 1s 960us/step - loss: 1.6808 - accuracy: 0.4428 - val_loss: 1.6751 - val_accuracy: 0.4510\n",
      "Epoch 16/50\n",
      "1563/1563 [==============================] - 1s 952us/step - loss: 1.6760 - accuracy: 0.4451 - val_loss: 1.7635 - val_accuracy: 0.4048\n",
      "Epoch 17/50\n",
      "1563/1563 [==============================] - 1s 958us/step - loss: 1.6701 - accuracy: 0.4477 - val_loss: 1.7188 - val_accuracy: 0.4272\n",
      "Epoch 18/50\n",
      "1563/1563 [==============================] - 1s 957us/step - loss: 1.6663 - accuracy: 0.4483 - val_loss: 1.6996 - val_accuracy: 0.4292\n",
      "Epoch 19/50\n",
      "1563/1563 [==============================] - 1s 959us/step - loss: 1.6657 - accuracy: 0.4472 - val_loss: 1.6735 - val_accuracy: 0.4470\n",
      "Epoch 20/50\n",
      "1563/1563 [==============================] - 1s 957us/step - loss: 1.6578 - accuracy: 0.4522 - val_loss: 1.6478 - val_accuracy: 0.4529\n",
      "Epoch 21/50\n",
      "1563/1563 [==============================] - 1s 958us/step - loss: 1.6604 - accuracy: 0.4492 - val_loss: 1.6951 - val_accuracy: 0.4427\n",
      "Epoch 22/50\n",
      "1563/1563 [==============================] - 1s 959us/step - loss: 1.6568 - accuracy: 0.4500 - val_loss: 1.7505 - val_accuracy: 0.4324\n",
      "Epoch 23/50\n",
      "1563/1563 [==============================] - 2s 963us/step - loss: 1.6530 - accuracy: 0.4531 - val_loss: 1.6351 - val_accuracy: 0.4614\n",
      "Epoch 24/50\n",
      "1563/1563 [==============================] - 2s 961us/step - loss: 1.6519 - accuracy: 0.4519 - val_loss: 1.6841 - val_accuracy: 0.4436\n",
      "Epoch 25/50\n",
      "1563/1563 [==============================] - 2s 978us/step - loss: 1.6469 - accuracy: 0.4555 - val_loss: 1.6583 - val_accuracy: 0.4501\n",
      "Epoch 26/50\n",
      "1563/1563 [==============================] - 2s 1ms/step - loss: 1.6494 - accuracy: 0.4544 - val_loss: 1.6612 - val_accuracy: 0.4478\n",
      "Epoch 27/50\n",
      "1563/1563 [==============================] - 2s 1ms/step - loss: 1.6467 - accuracy: 0.4535 - val_loss: 1.6397 - val_accuracy: 0.4566\n",
      "Epoch 28/50\n",
      "1563/1563 [==============================] - 2s 967us/step - loss: 1.6459 - accuracy: 0.4574 - val_loss: 1.6170 - val_accuracy: 0.4609\n",
      "Epoch 29/50\n",
      "1563/1563 [==============================] - 2s 1ms/step - loss: 1.6417 - accuracy: 0.4568 - val_loss: 1.6452 - val_accuracy: 0.4552\n",
      "Epoch 30/50\n",
      "1563/1563 [==============================] - 2s 1ms/step - loss: 1.6411 - accuracy: 0.4552 - val_loss: 1.6869 - val_accuracy: 0.4396\n",
      "Epoch 31/50\n",
      "1563/1563 [==============================] - 2s 990us/step - loss: 1.6431 - accuracy: 0.4570 - val_loss: 1.6693 - val_accuracy: 0.4499\n",
      "Epoch 32/50\n",
      "1563/1563 [==============================] - 2s 1ms/step - loss: 1.6406 - accuracy: 0.4568 - val_loss: 1.7057 - val_accuracy: 0.4305\n",
      "Epoch 33/50\n",
      "1563/1563 [==============================] - 2s 961us/step - loss: 1.6382 - accuracy: 0.4574 - val_loss: 1.6753 - val_accuracy: 0.4393\n",
      "Epoch 34/50\n",
      "1563/1563 [==============================] - 1s 956us/step - loss: 1.6340 - accuracy: 0.4579 - val_loss: 1.6593 - val_accuracy: 0.4459\n",
      "Epoch 35/50\n",
      "1563/1563 [==============================] - 1s 954us/step - loss: 1.6379 - accuracy: 0.4575 - val_loss: 1.6561 - val_accuracy: 0.4552\n",
      "Epoch 36/50\n",
      "1563/1563 [==============================] - 2s 962us/step - loss: 1.6359 - accuracy: 0.4570 - val_loss: 1.7487 - val_accuracy: 0.4217\n",
      "Epoch 37/50\n",
      "1563/1563 [==============================] - 2s 964us/step - loss: 1.6338 - accuracy: 0.4572 - val_loss: 1.6228 - val_accuracy: 0.4582\n",
      "Epoch 38/50\n",
      "1563/1563 [==============================] - 2s 962us/step - loss: 1.6351 - accuracy: 0.4579 - val_loss: 1.6283 - val_accuracy: 0.4617\n",
      "Epoch 39/50\n",
      "1563/1563 [==============================] - 1s 959us/step - loss: 1.6328 - accuracy: 0.4583 - val_loss: 1.6485 - val_accuracy: 0.4498\n",
      "Epoch 40/50\n",
      "1563/1563 [==============================] - 1s 959us/step - loss: 1.6256 - accuracy: 0.4618 - val_loss: 1.6243 - val_accuracy: 0.4585\n",
      "Epoch 41/50\n",
      "1563/1563 [==============================] - 2s 970us/step - loss: 1.6302 - accuracy: 0.4593 - val_loss: 1.6250 - val_accuracy: 0.4595\n",
      "Epoch 42/50\n",
      "1563/1563 [==============================] - 2s 1ms/step - loss: 1.6292 - accuracy: 0.4608 - val_loss: 1.6173 - val_accuracy: 0.4709\n",
      "Epoch 43/50\n",
      "1563/1563 [==============================] - 2s 982us/step - loss: 1.6302 - accuracy: 0.4617 - val_loss: 1.6267 - val_accuracy: 0.4559\n",
      "Epoch 44/50\n",
      "1563/1563 [==============================] - 2s 966us/step - loss: 1.6279 - accuracy: 0.4611 - val_loss: 1.6705 - val_accuracy: 0.4335\n",
      "Epoch 45/50\n",
      "1563/1563 [==============================] - 2s 975us/step - loss: 1.6295 - accuracy: 0.4599 - val_loss: 1.6509 - val_accuracy: 0.4490\n",
      "Epoch 46/50\n",
      "1563/1563 [==============================] - 2s 987us/step - loss: 1.6227 - accuracy: 0.4611 - val_loss: 1.6281 - val_accuracy: 0.4609\n",
      "Epoch 47/50\n",
      "1563/1563 [==============================] - 1s 947us/step - loss: 1.6250 - accuracy: 0.4640 - val_loss: 1.7124 - val_accuracy: 0.4233\n",
      "Epoch 48/50\n",
      "1563/1563 [==============================] - 2s 1ms/step - loss: 1.6244 - accuracy: 0.4628 - val_loss: 1.6143 - val_accuracy: 0.4611\n",
      "Epoch 49/50\n",
      "1563/1563 [==============================] - 2s 971us/step - loss: 1.6236 - accuracy: 0.4633 - val_loss: 1.6475 - val_accuracy: 0.4511\n",
      "Epoch 50/50\n",
      "1563/1563 [==============================] - 2s 967us/step - loss: 1.6221 - accuracy: 0.4639 - val_loss: 1.6580 - val_accuracy: 0.4538\n"
     ]
    }
   ],
   "source": [
    "history = classifier_mod.fit(mod_input, train_y, epochs=50, validation_data=(enc.predict(test_x),test_y )  )"
   ]
  },
  {
   "cell_type": "code",
   "execution_count": 28,
   "id": "descending-macintosh",
   "metadata": {},
   "outputs": [
    {
     "data": {
      "text/plain": [
       "Text(0.5, 0, 'epoch')"
      ]
     },
     "execution_count": 28,
     "metadata": {},
     "output_type": "execute_result"
    },
    {
     "data": {
      "image/png": "[encoded data removed]",
      "text/plain": [
       "<Figure size 432x288 with 1 Axes>"
      ]
     },
     "metadata": {
      "needs_background": "light"
     },
     "output_type": "display_data"
    }
   ],
   "source": [
    "plt.plot(list(history.history[\"val_accuracy\"]))\n",
    "plt.ylabel(\"accuracy\")\n",
    "plt.xlabel(\"epoch\")\n",
    "# plt.savefig(\"q1-e_loss.jpg\")"
   ]
  },
  {
   "cell_type": "code",
   "execution_count": 29,
   "id": "boring-globe",
   "metadata": {},
   "outputs": [],
   "source": [
    "predictions = classifier_mod.predict(enc.predict(test_x))\n",
    "predicted_classes = np.argmax(predictions, axis=1)"
   ]
  },
  {
   "cell_type": "code",
   "execution_count": 30,
   "id": "spectacular-shipping",
   "metadata": {},
   "outputs": [
    {
     "data": {
      "text/plain": [
       "array([[471,  46,  38,   4,  76,   4,  46,  29, 205,  81],\n",
       "       [ 34, 578,   6,   1,  22,   2,  34,  23,  65, 235],\n",
       "       [ 78,  39, 199,  10, 285,  36, 220,  79,  32,  22],\n",
       "       [ 30,  49,  88,  70, 148, 105, 315, 102,  16,  77],\n",
       "       [ 35,  19,  58,   4, 510,   9, 243,  73,  22,  27],\n",
       "       [ 19,  19,  97,  46, 146, 232, 218, 171,  23,  29],\n",
       "       [  3,  22,  28,   5, 110,   4, 773,  25,  13,  17],\n",
       "       [ 28,  31,  28,  12, 166,  27,  85, 519,  16,  88],\n",
       "       [121,  75,  12,   4,  50,   7,  31,  12, 580, 108],\n",
       "       [ 35, 188,   5,   4,  16,   4,  52,  33,  57, 606]])"
      ]
     },
     "execution_count": 30,
     "metadata": {},
     "output_type": "execute_result"
    }
   ],
   "source": [
    "from sklearn import metrics\n",
    "confusion_matrix = metrics.confusion_matrix(test_y, np.rint(predicted_classes))\n",
    "confusion_matrix"
   ]
  }
 ],
 "metadata": {
  "kernelspec": {
   "display_name": "Python 3",
   "language": "python",
   "name": "python3"
  },
  "language_info": {
   "codemirror_mode": {
    "name": "ipython",
    "version": 3
   },
   "file_extension": ".py",
   "mimetype": "text/x-python",
   "name": "python",
   "nbconvert_exporter": "python",
   "pygments_lexer": "ipython3",
   "version": "3.8.9"
  }
 },
 "nbformat": 4,
 "nbformat_minor": 5
}
