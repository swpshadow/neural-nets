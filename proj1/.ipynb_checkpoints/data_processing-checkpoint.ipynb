{
 "cells": [
  {
   "cell_type": "code",
   "execution_count": 1,
   "id": "greek-thousand",
   "metadata": {},
   "outputs": [
    {
     "data": {
      "text/plain": [
       "0        0\n",
       "1        0\n",
       "2        0\n",
       "3        0\n",
       "4        0\n",
       "        ..\n",
       "15225    1\n",
       "15226    1\n",
       "15227    1\n",
       "15228    1\n",
       "15229    1\n",
       "Name: round_winner, Length: 15230, dtype: int64"
      ]
     },
     "execution_count": 1,
     "metadata": {},
     "output_type": "execute_result"
    }
   ],
   "source": [
    "#import libraries and read in data\n",
    "import numpy as np\n",
    "import pandas as pd\n",
    "import matplotlib.pyplot as plt\n",
    "from sklearn import tree\n",
    "from sklearn import naive_bayes, ensemble\n",
    "from collections import defaultdict\n",
    "\n",
    "def read_dataset(template, start_idx, end_idx):\n",
    "    frames = [ pd.read_json(f) for f in [template.format(i) for i in range(start_idx, end_idx+1)] ]\n",
    "    return pd.concat(frames, ignore_index = True)\n",
    "\n",
    "df = read_dataset(\"./dataset_{:02}.json\", 0, 2)\n",
    "y_df = df.pop('round_winner').map(lambda s: 0 if s == \"CT\" else 1)\n",
    "y_df"
   ]
  },
  {
   "cell_type": "code",
   "execution_count": 2,
   "id": "alleged-college",
   "metadata": {},
   "outputs": [],
   "source": [
    "#process data to get number of players alive for each team\n",
    "ct_counts = []\n",
    "t_counts = []\n",
    "y_train = []\n",
    "\n",
    "#count number of alive players for each team and only keep when a team has a clear majority\n",
    "for x in range(len(df[\"alive_players\"])):\n",
    "    ct_count = 0\n",
    "    t_count = 0\n",
    "    for c in df[\"alive_players\"][x]:\n",
    "        if c[\"team\"] == \"Terrorist\":\n",
    "            t_count += 1\n",
    "        else:\n",
    "            ct_count += 1\n",
    "    if not  False: #(ct_count == 5 and t_count == 5):\n",
    "        ct_counts.append(ct_count)  \n",
    "        t_counts.append(t_count)\n",
    "        y_train.append(y_df[x])\n",
    "\n",
    "y_train = pd.Series(y_train)\n",
    "x_train = pd.DataFrame()\n",
    "x_train[\"t_alive\"] = t_counts\n",
    "x_train[\"ct_alive\"] = ct_counts\n",
    "\n",
    "x_test = x_train.iloc[int(len(x_train)*.9):int(len(x_train))].reset_index(drop=True)\n",
    "y_test = y_train.iloc[int(len(y_train)*.9):int(len(y_train))].reset_index(drop=True)\n",
    "x_train = x_train.iloc[0:int(len(x_train.values)*.9)]\n",
    "y_train = y_train.iloc[0:int(len(y_train.values)*.9)]"
   ]
  },
  {
   "cell_type": "code",
   "execution_count": 3,
   "id": "monthly-bangladesh",
   "metadata": {},
   "outputs": [],
   "source": [
    "class naive_baes:\n",
    "    \"\"\"This Naive Bayes Classifier only works with discrete classes and inputs\"\"\"\n",
    "    \n",
    "    def __init__(self):\n",
    "        \"\"\"Save probabilities and priors for predictions\"\"\"\n",
    "        self.priors = []\n",
    "        self.num_features = 0\n",
    "        self.features = []\n",
    "        self.classes = []\n",
    "        self.probabilities = defaultdict(int)\n",
    "    \n",
    "    def train(self, x, y):\n",
    "        \"\"\"x: DataFrame, Y: Pandas Series\"\"\"\n",
    "        assert len(x.values) == len(y.values)\n",
    "        n = len(y)\n",
    "        self.classes = list(set(y))\n",
    "        print(self.classes)\n",
    "        y = list(y)\n",
    "        #computes the class priors\n",
    "        self.priors = [0]* len(self.classes)\n",
    "        for i in self.classes:\n",
    "            self.priors[i] = y.count(i)/len(y)\n",
    "\n",
    "        #computes the probabilities of x|y\n",
    "        self.features = list(x.keys())\n",
    "        self.num_features = len(self.features)\n",
    "        for i in range(self.num_features):\n",
    "            vals = list(set(x[x.keys()[i]]))\n",
    "            for j in range(len(vals)):\n",
    "                for k in self.classes:\n",
    "                    self.probabilities[self.features[i],vals[j],k] = sum([1 for z in range(len(x.values)) if (y[z] ==k) and (x[self.features[i]][z] == vals[j])])/sum([1 for z in range(len(x[self.features[i]])) if (y[z]==k)])    \n",
    "                \n",
    "                    \n",
    "    def predict(self, x):\n",
    "        \"\"\"input data as Pandas DataFrame\"\"\"\n",
    "        result = [None] * len(x.values)\n",
    "        \n",
    "        for i in range(len(x.values)):\n",
    "            max_c = self.classes[0]\n",
    "            max_c_prob, current =  -100000000, -100000000\n",
    "            for c in self.classes:\n",
    "                current = np.log(self.priors[c])\n",
    "\n",
    "                for j in range(self.num_features):\n",
    "                    current += np.log(self.probabilities[x.keys()[j],x[x.keys()[j]][i],c])             \n",
    "                if current > max_c_prob:\n",
    "                    max_c = c\n",
    "                    max_c_prob = current\n",
    "            result[i] = max_c\n",
    "    \n",
    "        return result\n",
    "        "
   ]
  },
  {
   "cell_type": "code",
   "execution_count": 4,
   "id": "extra-exemption",
   "metadata": {},
   "outputs": [],
   "source": [
    "def accuracy(y1, y2):\n",
    "    print(y1[0])\n",
    "    print(y2[0])\n",
    "    assert len(y1) == len(y2)\n",
    "    total = 0\n",
    "    for i in range(len(y1)):\n",
    "        if y1[i] == y2[i]:\n",
    "            total +=1\n",
    "    return total/len(y1)"
   ]
  },
  {
   "cell_type": "code",
   "execution_count": 5,
   "id": "level-passport",
   "metadata": {},
   "outputs": [
    {
     "name": "stdout",
     "output_type": "stream",
     "text": [
      "[0, 1]\n"
     ]
    }
   ],
   "source": [
    "mod = naive_baes()\n",
    "mod.train(x_train, y_train)"
   ]
  },
  {
   "cell_type": "code",
   "execution_count": 6,
   "id": "unusual-logging",
   "metadata": {},
   "outputs": [
    {
     "name": "stdout",
     "output_type": "stream",
     "text": [
      "1\n",
      "1\n"
     ]
    },
    {
     "data": {
      "text/plain": [
       "0.808641975308642"
      ]
     },
     "execution_count": 6,
     "metadata": {},
     "output_type": "execute_result"
    }
   ],
   "source": [
    "result = mod.predict(x_test)\n",
    "accuracy(result, y_test)\n",
    "# print(mod.predict(x_train))"
   ]
  },
  {
   "cell_type": "code",
   "execution_count": 13,
   "id": "inclusive-throat",
   "metadata": {},
   "outputs": [
    {
     "data": {
      "text/plain": [
       "GradientBoostingClassifier()"
      ]
     },
     "execution_count": 13,
     "metadata": {},
     "output_type": "execute_result"
    }
   ],
   "source": [
    "mod2 = ensemble.GradientBoostingClassifier()\n",
    "# mod2 = naive_bayes.MultinomialNB()\n",
    "# mod2 = tree.DecisionTreeClassifier()\n",
    "mod2.fit(x_train, y_train)"
   ]
  },
  {
   "cell_type": "code",
   "execution_count": 14,
   "id": "described-toyota",
   "metadata": {},
   "outputs": [
    {
     "name": "stdout",
     "output_type": "stream",
     "text": [
      "1\n",
      "1\n"
     ]
    },
    {
     "data": {
      "text/plain": [
       "0.808641975308642"
      ]
     },
     "execution_count": 14,
     "metadata": {},
     "output_type": "execute_result"
    }
   ],
   "source": [
    "r = mod2.predict(x_test)\n",
    "accuracy(r, y_test)"
   ]
  },
  {
   "cell_type": "code",
   "execution_count": null,
   "id": "referenced-intent",
   "metadata": {},
   "outputs": [],
   "source": []
  }
 ],
 "metadata": {
  "kernelspec": {
   "display_name": "Python 3",
   "language": "python",
   "name": "python3"
  },
  "language_info": {
   "codemirror_mode": {
    "name": "ipython",
    "version": 3
   },
   "file_extension": ".py",
   "mimetype": "text/x-python",
   "name": "python",
   "nbconvert_exporter": "python",
   "pygments_lexer": "ipython3",
   "version": "3.8.9"
  }
 },
 "nbformat": 4,
 "nbformat_minor": 5
}
